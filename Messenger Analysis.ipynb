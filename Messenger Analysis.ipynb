{
 "cells": [
  {
   "cell_type": "markdown",
   "metadata": {},
   "source": [
    "# Messenger Analysis\n",
    "\n",
    "## Instructions\n",
    "- Export data from Facebook\n",
    "- Copy messages.htm from zip from html folder into here"
   ]
  },
  {
   "cell_type": "code",
   "execution_count": null,
   "metadata": {
    "collapsed": false
   },
   "outputs": [],
   "source": [
    "# Importing stuff\n",
    "from html.parser import HTMLParser\n",
    "\n",
    "import numpy as np\n",
    "import matplotlib.pyplot as plt\n",
    "import pandas as pd\n",
    "import seaborn as sns\n",
    "\n",
    "%pylab inline\n",
    "\n",
    "import dateutil.parser"
   ]
  },
  {
   "cell_type": "markdown",
   "metadata": {},
   "source": [
    "As of 8/1/2016, the format for messages as follows:\n",
    "\n",
    "```\n",
    "<div class=\"thread\">\n",
    "    Person1, Person2\n",
    "\n",
    "    <div class=\"message\">\n",
    "        <div class=\"message_header\">\n",
    "            <span class=\"user\">Person1</span>\n",
    "            <span class=\"meta\">Thursday, July 7, 2016 at 6:28pm MST</span>\n",
    "        </div>\n",
    "    </div>\n",
    "    \n",
    "    <p>message1</p>\n",
    "        <div class=\"message\">\n",
    "        <div class=\"message_header\">\n",
    "            <span class=\"user\">Person2</span>\n",
    "            <span class=\"meta\">Thursday, July 7, 2016 at 6:29pm MST</span>\n",
    "        </div>\n",
    "    </div>\n",
    "    <p>message2</p>\n",
    "</div>\n",
    "```"
   ]
  },
  {
   "cell_type": "code",
   "execution_count": null,
   "metadata": {
    "collapsed": true
   },
   "outputs": [],
   "source": [
    "class MessagesHTMLParser(HTMLParser):\n",
    "\n",
    "    def __init__(self):\n",
    "        HTMLParser.__init__(self)\n",
    "        self.in_thread = False # data should be conversation participants\n",
    "        self.in_user = False # data should be sender\n",
    "        self.in_meta = False # data should be timestamp\n",
    "        self.in_p = False # data should be message\n",
    "        \n",
    "        self.participants = None\n",
    "        self.sender = None\n",
    "        self.timestamp = None\n",
    "        \n",
    "        self.messages = list() # List of tuples containing all messages\n",
    "            \n",
    "    def handle_starttag(self, tag, attrs):\n",
    "        if len(attrs) > 0:\n",
    "            if tag == 'div':\n",
    "                if self._contains_attr(attrs, 'thread'):\n",
    "                    self.in_thread = True\n",
    "            elif tag == 'span':\n",
    "                if self._contains_attr(attrs, 'user'):\n",
    "                    self.in_user = True\n",
    "                elif self._contains_attr(attrs, 'meta'):\n",
    "                    self.in_meta = True\n",
    "        elif tag == 'p':\n",
    "            self.in_p = True\n",
    "            \n",
    "    def handle_data(self, data):\n",
    "        if self.in_thread:\n",
    "            self.participants = data\n",
    "            self.in_thread = False\n",
    "        elif self.in_user:\n",
    "            self.sender = data\n",
    "            self.in_user = False\n",
    "        elif self.in_meta:\n",
    "            self.timestamp = dateutil.parser.parse(data)\n",
    "            self.in_meta = False\n",
    "        elif self.in_p:\n",
    "            self.messages.append((self.participants,\n",
    "                                  self.timestamp,\n",
    "                                  self.sender,\n",
    "                                  data))\n",
    "            self.sender = None\n",
    "            self.timestamp = None\n",
    "            self.in_p = False\n",
    "            \n",
    "    def _contains_attr(self, attrs, attribute):\n",
    "        for pair in attrs:\n",
    "            if attribute in pair:\n",
    "                return True\n",
    "        return False\n"
   ]
  },
  {
   "cell_type": "code",
   "execution_count": null,
   "metadata": {
    "collapsed": false
   },
   "outputs": [],
   "source": [
    "# Read in data\n",
    "# This may take a while depending on the number of conversations\n",
    "\n",
    "parser = MessagesHTMLParser()\n",
    "parser.feed(open('messages.htm').read())\n",
    "\n",
    "df = pd.DataFrame(parser.messages,\n",
    "                 columns=['participants', 'timestamp',\n",
    "                         'sender', 'message'])"
   ]
  },
  {
   "cell_type": "code",
   "execution_count": null,
   "metadata": {
    "collapsed": false
   },
   "outputs": [],
   "source": [
    "# Show first few conversations\n",
    "df.head()"
   ]
  },
  {
   "cell_type": "code",
   "execution_count": null,
   "metadata": {
    "collapsed": true
   },
   "outputs": [],
   "source": []
  }
 ],
 "metadata": {
  "kernelspec": {
   "display_name": "Python 3",
   "language": "python",
   "name": "python3"
  },
  "language_info": {
   "codemirror_mode": {
    "name": "ipython",
    "version": 3
   },
   "file_extension": ".py",
   "mimetype": "text/x-python",
   "name": "python",
   "nbconvert_exporter": "python",
   "pygments_lexer": "ipython3",
   "version": "3.5.2"
  }
 },
 "nbformat": 4,
 "nbformat_minor": 0
}
